{
  "nbformat": 4,
  "nbformat_minor": 0,
  "metadata": {
    "accelerator": "GPU",
    "colab": {
      "name": "MNIST-masking-experiment",
      "provenance": [],
      "collapsed_sections": [],
      "toc_visible": true,
      "include_colab_link": true
    },
    "kernelspec": {
      "display_name": "Python 3",
      "name": "python3"
    },
    "language_info": {
      "name": "python"
    }
  },
  "cells": [
    {
      "cell_type": "markdown",
      "metadata": {
        "id": "view-in-github",
        "colab_type": "text"
      },
      "source": [
        "<a href=\"https://colab.research.google.com/github/PizzaGitHub/LeNet_5_study/blob/main/MNIST_masking_experiment.ipynb\" target=\"_parent\"><img src=\"https://colab.research.google.com/assets/colab-badge.svg\" alt=\"Open In Colab\"/></a>"
      ]
    },
    {
      "cell_type": "markdown",
      "metadata": {
        "id": "PnRi7rdVuM4g"
      },
      "source": [
        "# Import libraries, check cuda and mount google drive"
      ]
    },
    {
      "cell_type": "code",
      "metadata": {
        "colab": {
          "base_uri": "https://localhost:8080/"
        },
        "id": "cNdnu9WaIPKn",
        "outputId": "d585b3d9-fcba-46ee-9294-9862ca549469"
      },
      "source": [
        "import torch\n",
        "import torch.nn as nn\n",
        "from torch import flatten\n",
        "from torch.utils.data import DataLoader\n",
        "from torch.optim import SGD, Adam\n",
        "from torch.optim import lr_scheduler\n",
        "from torch.nn import CrossEntropyLoss\n",
        "\n",
        "if torch.cuda.is_available():\n",
        "  print(f\"CUDA device: {torch.cuda.get_device_name(0)} \\n\")\n",
        "  device = 'cuda'\n",
        "else:\n",
        "  print(f\"CUDA not available.\")\n",
        "  device = 'cpu'\n",
        "\n",
        "import matplotlib.pyplot as plt\n",
        "import numpy as np\n",
        "from numpy.random import default_rng\n",
        "import tqdm\n",
        "from torchvision import datasets, transforms\n",
        "from torchsummary import summary\n",
        "\n",
        "from google.colab import drive\n",
        "\n",
        "drive.mount('./drive')\n",
        "\n",
        "!ls drive/MyDrive/Code/ -l\n",
        "PATH = 'drive/MyDrive/Code/MNIST-masking-experiment'"
      ],
      "execution_count": null,
      "outputs": [
        {
          "output_type": "stream",
          "text": [
            "CUDA device: Tesla T4 \n",
            "\n",
            "Drive already mounted at ./drive; to attempt to forcibly remount, call drive.mount(\"./drive\", force_remount=True).\n",
            "total 16\n",
            "drwx------ 2 root root 4096 May 20 19:29 COVID19-Grafici-Regionali\n",
            "drwx------ 2 root root 4096 May 20 19:31 Miscellaneous\n",
            "drwx------ 5 root root 4096 May 20 19:24 MNIST-masking-experiment\n",
            "drwx------ 2 root root 4096 May 20 19:26 NLP-Kaggle-tries\n"
          ],
          "name": "stdout"
        }
      ]
    },
    {
      "cell_type": "markdown",
      "metadata": {
        "id": "qi3pT8g6pNuU"
      },
      "source": [
        "# Dataset"
      ]
    },
    {
      "cell_type": "markdown",
      "metadata": {
        "id": "f4Eh-y8tpXav"
      },
      "source": [
        "### CLASS : transform `maskMNIST()`"
      ]
    },
    {
      "cell_type": "code",
      "metadata": {
        "id": "QJrm6DIhup7r"
      },
      "source": [
        "# we have to call the transform passing two tuple argumsnts:\n",
        "# - g_tuple = [g_min,g_max]\n",
        "# - w_tuple = [w_min, w_max]\n",
        "\n",
        "class maskMNIST(object):\n",
        "\n",
        "  def __init__(self, g_tuple=[10,15],w_tuple=[2,4]):\n",
        "    self.gridParams = [g_tuple,w_tuple]\n",
        "\n",
        "\n",
        "  def __call__(self,sample):\n",
        "\n",
        "    resolution = sample.shape[1]\n",
        "    sample = sample.detach().clone()\n",
        "\n",
        "    # define the stripe values\n",
        "    np.random.seed()\n",
        "    stripeGauge = np.random.randint(self.gridParams[0][0],self.gridParams[0][1],2)\n",
        "    stripeWidth = np.random.randint(self.gridParams[1][0],self.gridParams[1][1],2)\n",
        "    stripeGap_x = np.random.randint(0,stripeGauge[0])\n",
        "    stripeGap_y = np.random.randint(0,stripeGauge[1])\n",
        "\n",
        "    #draw the grid from the params\n",
        "    for i in range(stripeWidth[0]):\n",
        "      sample[0,stripeGap_x+i:resolution:stripeGauge[0],:] = 0\n",
        "      #sample[i:stripeGauge[0]+i*stripeWidth[0],:] = 0.5\n",
        "      \n",
        "    for i in range(stripeWidth[1]):\n",
        "      sample[0,:,stripeGap_y+i:resolution:stripeGauge[1]] = 0\n",
        "      #sample[:,i:stripeGauge[1]+i*stripeWidth[1]] = 0.5\n",
        "    \n",
        "    return sample\n",
        "  \n",
        "\n"
      ],
      "execution_count": null,
      "outputs": []
    },
    {
      "cell_type": "markdown",
      "metadata": {
        "id": "a_1p1MoUCX9B"
      },
      "source": [
        "## CLASS : transform `invert_colors()`"
      ]
    },
    {
      "cell_type": "code",
      "metadata": {
        "id": "vfjJ5TRCCXgn"
      },
      "source": [
        "class invert_colors(object):\n",
        "  def __init__(self):\n",
        "\n",
        "  def __call__(self, sample):\n",
        "    self \n",
        "    sample = -sample\n",
        "    return\n"
      ],
      "execution_count": null,
      "outputs": []
    },
    {
      "cell_type": "markdown",
      "metadata": {
        "id": "r0r7edCJ-Il2"
      },
      "source": [
        "### AUX: load_masked_testset"
      ]
    },
    {
      "cell_type": "code",
      "metadata": {
        "id": "CPwZ8soeQKrT"
      },
      "source": [
        "def load_masked_testset(gauge,width,for_lenet=False):\n",
        "  mask_trasf = maskMNIST(gauge,width)\n",
        "  \n",
        "  # define the masking transforms\n",
        "  combo = transforms.Compose([\n",
        "                              transforms.ToTensor(),\n",
        "                              mask_trasf\n",
        "  ])\n",
        "\n",
        "  combo_for_lenet = transforms.Compose([\n",
        "                                        transforms.Pad(2),\n",
        "                                        transforms.ToTensor(),\n",
        "                                        mask_trasf\n",
        "  ])\n",
        "  \n",
        "  if for_lenet:\n",
        "    payload = datasets.MNIST(PATH, train=False, download=True, transform=combo_for_lenet)\n",
        "  else:\n",
        "    payload = datasets.MNIST(PATH, train=False, download=True, transform=combo)\n",
        "\n",
        "  return payload"
      ],
      "execution_count": null,
      "outputs": []
    },
    {
      "cell_type": "markdown",
      "metadata": {
        "id": "sB4A_Bbq9aLl"
      },
      "source": [
        "### AUX: masked_test_accuracy"
      ]
    },
    {
      "cell_type": "code",
      "metadata": {
        "id": "Ct-0KvG99QdW"
      },
      "source": [
        "def masked_test_accuracy(model, gauge, width, for_lenet=False, plotting=False):\n",
        "  # load the testset\n",
        "  testset = load_masked_testset(gauge,width,for_lenet=for_lenet)\n",
        "\n",
        "  # show an some example test items\n",
        "  if plotting:\n",
        "    indexes = np.random.randint(0,testset.__len__(), 5)\n",
        "    fig = plt.figure(figsize=(20,10))\n",
        "    for i in range(5):\n",
        "      fig.add_subplot(1,5,i+1)\n",
        "      plt.imshow(testset[indexes[i]][0].reshape(32,32),cmap='gray')\n",
        "\n",
        "  model.eval()\n",
        "  accuracy_loader = DataLoader(testset, batch_size=10000)\n",
        "  for batch, labels in accuracy_loader:\n",
        "    batch = batch.to(device)\n",
        "    out = model(batch)\n",
        "    \n",
        "  scores = (testset.targets == out.argmax(axis=1).cpu()).sum()\n",
        "  payload = scores/testset.__len__()\n",
        "  \n",
        "  return payload"
      ],
      "execution_count": null,
      "outputs": []
    },
    {
      "cell_type": "markdown",
      "metadata": {
        "id": "UQcPge8t-JC0"
      },
      "source": [
        "## CALL : All the transforms"
      ]
    },
    {
      "cell_type": "code",
      "metadata": {
        "id": "WM6DQ3bN-NPD"
      },
      "source": [
        "vanilla = transforms.Compose([\n",
        "    transforms.ToTensor(),\n",
        "    transforms.Normalize\n",
        "])\n",
        "\n",
        "for_lenet = transforms.Compose([\n",
        "    vanilla,\n",
        "    transforms.Pad(2)\n",
        "])\n",
        "\n",
        "inverted_vanilla = transforms.Compose([\n",
        "    vanilla,\n",
        "         \n",
        "])\n"
      ],
      "execution_count": null,
      "outputs": []
    },
    {
      "cell_type": "markdown",
      "metadata": {
        "id": "3tLd1fSYvQMF"
      },
      "source": [
        "### Load MNIST trainset\n",
        "\n"
      ]
    },
    {
      "cell_type": "code",
      "metadata": {
        "colab": {
          "base_uri": "https://localhost:8080/",
          "height": 258
        },
        "id": "H365WnnRvfqm",
        "outputId": "e28d8193-5e21-4347-fc58-1329f92357f0"
      },
      "source": [
        "trainset = datasets.MNIST(PATH, download=True, train=True,transform=for_lenet)\n",
        "\n",
        "fig = plt.figure(figsize=[20,10])\n",
        "for i in range(5):\n",
        "  fig.add_subplot(1,5,i+1)\n",
        "  plt.imshow(trainset.__getitem__(i)[0].reshape([32,32]), cmap='gray')\n",
        "\n",
        "print(trainset.__getitem__(2)[0].max())"
      ],
      "execution_count": null,
      "outputs": [
        {
          "output_type": "stream",
          "text": [
            "tensor(0.5000)\n"
          ],
          "name": "stdout"
        },
        {
          "output_type": "display_data",
          "data": {
            "image/png": "[encoded data removed]",
            "text/plain": [
              "<Figure size 1440x720 with 5 Axes>"
            ]
          },
          "metadata": {
            "tags": [],
            "needs_background": "light"
          }
        }
      ]
    },
    {
      "cell_type": "markdown",
      "metadata": {
        "id": "P3sD2Oj0uvIp"
      },
      "source": [
        "# Custom nets"
      ]
    },
    {
      "cell_type": "markdown",
      "metadata": {
        "id": "I623gw1Ztx0e"
      },
      "source": [
        "### `Squafra_lenet`"
      ]
    },
    {
      "cell_type": "code",
      "metadata": {
        "id": "4IGQQmJCu0s0"
      },
      "source": [
        "class Squafra_lenet(nn.Module):\n",
        "    def __init__(self):\n",
        "        super().__init__()\n",
        "        \n",
        "                                                                           #input 1x28x28\n",
        "        self.conv1 = nn.Conv2d(1,8,kernel_size = 5 , stride = 1, padding = 0)      #8x24x24\n",
        "        self.batch1 = nn.BatchNorm2d(8, track_running_stats=False)\n",
        "        self.drop1 = nn.Dropout(0.1)\n",
        "\n",
        "        self.pool1 = nn.MaxPool2d(kernel_size=3, stride=3)                          #8x8x8\n",
        " \n",
        "        self.conv2 = nn.Conv2d(8,16, kernel_size = 5 , stride = 1 , padding = 0)        #4x4x16\n",
        "        self.batch2 = nn.BatchNorm2d(16, track_running_stats=False)\n",
        "        self.drop2 = nn.Dropout(0.1)\n",
        "\n",
        "        self.pool2 = nn.MaxPool2d(kernel_size=2, stride=2 )                     #16x2x2\n",
        "\n",
        "        self.linear1 = nn.Linear(64, 200) \n",
        "        self.linear2 = nn.Linear(200,10)\n",
        "        self.relu = nn.ReLU()\n",
        "\n",
        "    def forward(self, x):\n",
        "        out = self.conv1(x)\n",
        "        out = self.batch1(out)\n",
        "        out = self.drop1(out)\n",
        "        out = self.relu(out)\n",
        "        out = self.pool1(out)\n",
        "\n",
        "        out = self.conv2(out)\n",
        "        out = self.batch2(out)\n",
        "        out = self.drop2(out)\n",
        "        out = self.relu(out)\n",
        "        out = self.pool2(out)\n",
        "\n",
        "        out = flatten(out,1)\n",
        "\n",
        "        out = self.linear1(out)\n",
        "        out = self.relu(out)\n",
        "        out = self.linear2(out)\n",
        "        \n",
        "        return out"
      ],
      "execution_count": null,
      "outputs": []
    },
    {
      "cell_type": "markdown",
      "metadata": {
        "id": "ZpSc1oA8t4fd"
      },
      "source": [
        "### `Lenet_5`\n",
        "CAVEAT: this class needs the `device` argument passed upon istantiation if you want to run it on GPU."
      ]
    },
    {
      "cell_type": "code",
      "metadata": {
        "id": "pCVkFqXWuuID"
      },
      "source": [
        "class Lenet_5(nn.Module):\n",
        "\n",
        "  def __init__(self,device='cpu'):\n",
        "    super().__init__()\n",
        "\n",
        "    self.device = device\n",
        "    self.tanh = nn.Tanh()\n",
        "    self.conv1 = nn.Conv2d(1,6,kernel_size=5, stride=1)\n",
        "    self.subsample1 = nn.AvgPool2d(kernel_size=2, stride=2)\n",
        "\n",
        "    self.conv2_in_3 = nn.Conv2d(3,1,kernel_size=5,stride=1)\n",
        "    self.conv2_in_4 = nn.Conv2d(4,1,kernel_size=5,stride=1)\n",
        "    self.conv2_in_6 = nn.Conv2d(6,1,kernel_size=5,stride=1)\n",
        "    self.sub_sample2 = nn.AvgPool2d(kernel_size=2, stride=2)\n",
        "\n",
        "    self.conv3 = nn.Conv2d(16,120,kernel_size=5,stride=1)\n",
        "\n",
        "    self.linear1 = nn.Linear(120,84)\n",
        "    self.linear2 = nn.Linear(84,10)\n",
        "\n",
        "    self.tanh = nn.Tanh()\n",
        "  \n",
        "  def forward(self,x):\n",
        "    dim = x.shape[0]\n",
        "    out = self.conv1(x)\n",
        "    out = self.tanh(out)\n",
        "    out = self.subsample1(out)\n",
        "\n",
        "    basket = torch.zeros((dim,16,10,10)).to(device)\n",
        "    \n",
        "    basket[:,0,:,:] = self.conv2_in_3(out[:,[0,1,2],:,:])[:,0,:,:]\n",
        "    basket[:,1,:,:] = self.conv2_in_3(out[:,[1,2,3],:,:])[:,0,:,:]\n",
        "    basket[:,2,:,:] = self.conv2_in_3(out[:,[2,3,4],:,:])[:,0,:,:]\n",
        "    basket[:,3,:,:] = self.conv2_in_3(out[:,[3,4,5],:,:])[:,0,:,:]\n",
        "    basket[:,4,:,:] = self.conv2_in_3(out[:,[0,4,5],:,:])[:,0,:,:]\n",
        "    basket[:,5,:,:] = self.conv2_in_3(out[:,[0,1,5],:,:])[:,0,:,:]\n",
        "    basket[:,6,:,:] = self.conv2_in_4(out[:,[0,1,2,3],:,:])[:,0,:,:]\n",
        "    basket[:,7,:,:] = self.conv2_in_4(out[:,[1,2,3,4],:,:])[:,0,:,:]\n",
        "    basket[:,8,:,:] = self.conv2_in_4(out[:,[2,3,4,5],:,:])[:,0,:,:]\n",
        "    basket[:,9,:,:] = self.conv2_in_4(out[:,[0,3,4,5],:,:])[:,0,:,:]\n",
        "    basket[:,10,:,:] = self.conv2_in_4(out[:,[0,1,4,5],:,:])[:,0,:,:]\n",
        "    basket[:,11,:,:] = self.conv2_in_4(out[:,[0,1,2,5],:,:])[:,0,:,:]\n",
        "    basket[:,12,:,:] = self.conv2_in_4(out[:,[0,1,3,4],:,:])[:,0,:,:]\n",
        "    basket[:,13,:,:] = self.conv2_in_4(out[:,[1,2,4,5],:,:])[:,0,:,:]\n",
        "    basket[:,14,:,:] = self.conv2_in_4(out[:,[0,2,3,5],:,:])[:,0,:,:]\n",
        "    basket[:,15,:,:] = self.conv2_in_6(out)[:,0,:,:]\n",
        "    \n",
        "    out = basket\n",
        "    out = self.tanh(out)\n",
        "    out = self.sub_sample2(out)\n",
        "    out = self.conv3(out)\n",
        "\n",
        "    temp = torch.zeros(dim,120).to(device)\n",
        "\n",
        "    for idx in range(dim):\n",
        "      temp[idx,:] = out[idx,:,0,0]\n",
        "    \n",
        "    out = temp\n",
        "    out = self.tanh(out)\n",
        "    out = self.linear1(out)\n",
        "    out = self.tanh(out)\n",
        "    out = self.linear2(out)\n",
        "\n",
        "    return out"
      ],
      "execution_count": null,
      "outputs": []
    },
    {
      "cell_type": "markdown",
      "metadata": {
        "id": "1-9OFVw5q14g"
      },
      "source": [
        "### Choose the model"
      ]
    },
    {
      "cell_type": "code",
      "metadata": {
        "id": "Go5NrzJIq3uB"
      },
      "source": [
        "model_name = 'Lenet_5'\n",
        "model = Lenet_5(device).to(device)\n",
        "#summary(model,(1,28,28))"
      ],
      "execution_count": null,
      "outputs": []
    },
    {
      "cell_type": "markdown",
      "metadata": {
        "id": "x_1hU93Qp2uP"
      },
      "source": [
        "# Training"
      ]
    },
    {
      "cell_type": "markdown",
      "metadata": {
        "id": "m0Ut3SI8wnUf"
      },
      "source": [
        "### Training parameters\n",
        "Train parameters: Lenet-5 \n",
        "  - Lenet-5: SGD(minibatches size 16, LR 10-2, nesterov 0.9)\n",
        "  - Squafra ("
      ]
    },
    {
      "cell_type": "code",
      "metadata": {
        "id": "Pan5KRjHxEFA"
      },
      "source": [
        "loader = DataLoader(trainset, batch_size=16, shuffle=True, num_workers=2)\n",
        "optimizer = Adam(model.parameters(), lr=1e-5)\n",
        "loss_fn = CrossEntropyLoss()\n",
        "scheduler = lr_scheduler.ReduceLROnPlateau(optimizer, verbose = True)"
      ],
      "execution_count": null,
      "outputs": []
    },
    {
      "cell_type": "markdown",
      "metadata": {
        "id": "RWUAsHx1lg7b"
      },
      "source": [
        "### Train or load\n",
        "Train the model or load a pretrained one"
      ]
    },
    {
      "cell_type": "code",
      "metadata": {
        "colab": {
          "base_uri": "https://localhost:8080/"
        },
        "id": "wOlb3IlmyFKw",
        "outputId": "dc7f50c5-69f0-451a-ca00-71f73544e227"
      },
      "source": [
        "retrain = False\n",
        "epochs = 10\n",
        "\n",
        "if retrain:\n",
        "  for i in range(epochs):\n",
        "    for batch, labels in loader:\n",
        "      batch, labels = batch.to(device), labels.to(device)\n",
        "      batch = batch.float()\n",
        "\n",
        "      model.train()\n",
        "      optimizer.zero_grad()\n",
        "\n",
        "      out = model(batch)\n",
        "\n",
        "      loss = loss_fn(out, labels)\n",
        "\n",
        "      loss.backward()\n",
        "      optimizer.step()\n",
        "    \n",
        "    scheduler.step(loss)\n",
        "    \n",
        "    if (((i+1)*100)%epochs == 0):\n",
        "      print(f'training {i+1}0%: loss = {loss.item()}')\n",
        "  \n",
        "  torch.save(model,f\"{PATH}/trained_models/trained_{model_name}.pt\")\n",
        "  \n",
        "else:\n",
        "  model = torch.load(f\"{PATH}/trained_models/trained_{model_name}.pt\")\n",
        "  print(model.state_dict)"
      ],
      "execution_count": null,
      "outputs": [
        {
          "output_type": "stream",
          "text": [
            "<bound method Module.state_dict of Lenet_5(\n",
            "  (tanh): Tanh()\n",
            "  (conv1): Conv2d(1, 6, kernel_size=(5, 5), stride=(1, 1))\n",
            "  (subsample1): AvgPool2d(kernel_size=2, stride=2, padding=0)\n",
            "  (conv2_in_3): Conv2d(3, 1, kernel_size=(5, 5), stride=(1, 1))\n",
            "  (conv2_in_4): Conv2d(4, 1, kernel_size=(5, 5), stride=(1, 1))\n",
            "  (conv2_in_6): Conv2d(6, 1, kernel_size=(5, 5), stride=(1, 1))\n",
            "  (sub_sample2): AvgPool2d(kernel_size=2, stride=2, padding=0)\n",
            "  (conv3): Conv2d(16, 120, kernel_size=(5, 5), stride=(1, 1))\n",
            "  (linear1): Linear(in_features=120, out_features=84, bias=True)\n",
            "  (linear2): Linear(in_features=84, out_features=10, bias=True)\n",
            ")>\n"
          ],
          "name": "stdout"
        }
      ]
    },
    {
      "cell_type": "markdown",
      "metadata": {
        "id": "I1YE2HEQBxQX"
      },
      "source": [
        "### Show some filters"
      ]
    },
    {
      "cell_type": "code",
      "metadata": {
        "colab": {
          "base_uri": "https://localhost:8080/"
        },
        "id": "aZCqjYbKBwo0",
        "outputId": "a7832b12-aa7b-450e-b672-f07db55d2028"
      },
      "source": [
        "kernels1 = model.cpu().conv1.weight.detach().clone()\n",
        "print(kernels1.shape)\n",
        "fig = plt.figure(figsize=(20,10))\n",
        "for i in range(6):\n",
        "  fig.add_subplot(1,8,i+1)\n",
        "  plt.imshow(kernels1[i,0,:,:],cmap='gray')\n",
        "\n",
        "\n",
        "kernels2_in_3 = model.conv2_in_3.weight.detach().clone()\n",
        "kernels2_in_4 = model.conv2_in_4.weight.detach().clone()\n",
        "kernels2_in_6 = model.conv2_in_6.weight.detach().clone()\n",
        "\n",
        "fig = plt.figure(figsize=(8,5))\n",
        "for i in range(3):\n",
        "  fig.add_subplot(1,3,i+1)\n",
        "  plt.imshow(kernels2_in_3[0,i,:,:],cmap='gray')\n",
        "\n",
        "fig = plt.figure(figsize=(10,5))\n",
        "for i in range(4):\n",
        "  fig.add_subplot(1,4,i+1)\n",
        "  plt.imshow(kernels2_in_4[0,i,:,:],cmap='gray')\n",
        "\n",
        "fig = plt.figure(figsize=(12,5))\n",
        "for i in range(6):\n",
        "  fig.add_subplot(1,6,i+1)\n",
        "  plt.imshow(kernels2_in_6[0,i,:,:],cmap='gray')\n",
        "\n",
        "\n",
        "plt.show()\n"
      ],
      "execution_count": null,
      "outputs": [
        {
          "output_type": "stream",
          "text": [
            "torch.Size([6, 1, 5, 5])\n"
          ],
          "name": "stdout"
        },
        {
          "output_type": "display_data",
          "data": {
            "image/png": "[encoded data removed]",
            "text/plain": [
              "<Figure size 1440x720 with 6 Axes>"
            ]
          },
          "metadata": {
            "tags": [],
            "needs_background": "light"
          }
        },
        {
          "output_type": "display_data",
          "data": {
            "image/png": "[encoded data removed]",
            "text/plain": [
              "<Figure size 576x360 with 3 Axes>"
            ]
          },
          "metadata": {
            "tags": [],
            "needs_background": "light"
          }
        },
        {
          "output_type": "display_data",
          "data": {
            "image/png": "[encoded data removed]",
            "text/plain": [
              "<Figure size 720x360 with 4 Axes>"
            ]
          },
          "metadata": {
            "tags": [],
            "needs_background": "light"
          }
        },
        {
          "output_type": "display_data",
          "data": {
            "image/png": "[encoded data removed]",
            "text/plain": [
              "<Figure size 864x360 with 6 Axes>"
            ]
          },
          "metadata": {
            "tags": [],
            "needs_background": "light"
          }
        }
      ]
    },
    {
      "cell_type": "markdown",
      "metadata": {
        "id": "MzEbwkVkwnWI"
      },
      "source": [
        "# Accuracies\n"
      ]
    },
    {
      "cell_type": "markdown",
      "metadata": {
        "id": "OhQBFnevlBNi"
      },
      "source": [
        "### Training accuracy"
      ]
    },
    {
      "cell_type": "code",
      "metadata": {
        "colab": {
          "base_uri": "https://localhost:8080/"
        },
        "id": "rZjw85RhWO0N",
        "outputId": "a9d145d3-62c7-436b-9a18-ff77ccde768a"
      },
      "source": [
        "model.eval()\n",
        "if torch.cuda.is_available():\n",
        "  model = model.cuda()\n",
        "accuracy_loader = DataLoader(trainset, batch_size=60000)\n",
        "for batch, labels in accuracy_loader:\n",
        "  if torch.cuda.is_available():\n",
        "    batch = batch.cuda()\n",
        "  out = model(batch)\n",
        "\n",
        "scores = (trainset.targets == out.argmax(axis=1).cpu()).sum()\n",
        "print(f\"Training accuracy: {scores/trainset.__len__()}\")"
      ],
      "execution_count": null,
      "outputs": [
        {
          "output_type": "stream",
          "text": [
            "Training accuracy: 0.9973000288009644\n"
          ],
          "name": "stdout"
        }
      ]
    },
    {
      "cell_type": "markdown",
      "metadata": {
        "id": "CCcVdsLUEE7u"
      },
      "source": [
        "### Test accuracy\n"
      ]
    },
    {
      "cell_type": "code",
      "metadata": {
        "colab": {
          "base_uri": "https://localhost:8080/",
          "height": 258
        },
        "id": "JWIYCLg_WRV-",
        "outputId": "ef1287e7-9b81-4410-ef80-30b65201daee"
      },
      "source": [
        "gauge = [4,5]\n",
        "width = [1,2]\n",
        "plotting = True\n",
        "for_lenet = True\n",
        "\n",
        "test_accuracy = masked_test_accuracy(model,gauge,width,plotting,for_lenet)\n",
        "print(f\"Test accuracy: {test_accuracy.item()}\")"
      ],
      "execution_count": null,
      "outputs": [
        {
          "output_type": "stream",
          "text": [
            "Test accuracy: 0.944599986076355\n"
          ],
          "name": "stdout"
        },
        {
          "output_type": "display_data",
          "data": {
            "image/png": "[encoded data removed]",
            "text/plain": [
              "<Figure size 1440x720 with 5 Axes>"
            ]
          },
          "metadata": {
            "tags": [],
            "needs_background": "light"
          }
        }
      ]
    },
    {
      "cell_type": "markdown",
      "metadata": {
        "id": "f6TlWUqwPpHs"
      },
      "source": [
        "### Accuracy vs masking width/gauge\n",
        "Plot of test accuracy values against variation of mask width and gauge"
      ]
    },
    {
      "cell_type": "markdown",
      "metadata": {
        "id": "r_f7i41FRu4d"
      },
      "source": [
        "Accuracy vs width, fixed gauge 10"
      ]
    },
    {
      "cell_type": "code",
      "metadata": {
        "colab": {
          "base_uri": "https://localhost:8080/"
        },
        "id": "hRP6UvSmRf1Q",
        "outputId": "0f2e2962-2d9b-424f-c6f4-b4b5c83920ee"
      },
      "source": [
        "width_scores = []\n",
        "temp_scores = []\n",
        "\n",
        "# ricostruiamo lo stesso esperimento per fare una sorta di statistica (sembra\n",
        "# che non serva)\n",
        "tries = 1\n",
        "\n",
        "for k in range(tries):\n",
        "  for i in range(1,7):\n",
        "    accuracy = masked_test_accuracy(\n",
        "        model,\n",
        "        [10,11],\n",
        "        [i,i+1],\n",
        "        for_lenet = True,\n",
        "        plotting = False)\n",
        "    \n",
        "    temp_scores.append(accuracy)\n",
        "\n",
        "  width_scores.append(temp_scores)\n",
        "  temp_scores = []\n",
        "\n",
        "  print(f'Ended try {k+1}')\n",
        "  \n",
        "width_scores_tens = torch.tensor(width_scores)\n",
        "mean_width_scores = width_scores_tens.mean(axis=0)\n",
        "width_scores_errs = width_scores_tens.std(axis=0)"
      ],
      "execution_count": null,
      "outputs": [
        {
          "output_type": "stream",
          "text": [
            "Ended try 1\n"
          ],
          "name": "stdout"
        }
      ]
    },
    {
      "cell_type": "markdown",
      "metadata": {
        "id": "4G90INVDR13l"
      },
      "source": [
        "Accuracy vs gauge, fixed width 1"
      ]
    },
    {
      "cell_type": "code",
      "metadata": {
        "colab": {
          "base_uri": "https://localhost:8080/"
        },
        "id": "2lKQAVSPRjlk",
        "outputId": "6599b6f8-590e-4f60-bd2f-27c792c520e3"
      },
      "source": [
        "temp_scores = []\n",
        "gauge_scores = []\n",
        "\n",
        "tries=1\n",
        "\n",
        "for k in range(tries):\n",
        "  for i in range(2,10):\n",
        "    accuracy = masked_test_accuracy(\n",
        "        model,\n",
        "        [i,i+1],\n",
        "        [1,2],\n",
        "        for_lenet = True,\n",
        "        plotting = False)\n",
        "    \n",
        "    temp_scores.append(accuracy)\n",
        "\n",
        "  gauge_scores.append(temp_scores)\n",
        "  temp_scores = []\n",
        "\n",
        "  print(f\"Ended try {k+1}\")\n",
        "\n",
        "gauge_scores_tens = torch.tensor(gauge_scores)\n",
        "mean_gauge_scores = gauge_scores_tens.mean(axis=0)\n",
        "gauge_scores_errs = gauge_scores_tens.std(axis=0)"
      ],
      "execution_count": null,
      "outputs": [
        {
          "output_type": "stream",
          "text": [
            "Ended try 1\n"
          ],
          "name": "stdout"
        }
      ]
    },
    {
      "cell_type": "markdown",
      "metadata": {
        "id": "sZrCAttVb4Qm"
      },
      "source": [
        "Plot the graphs"
      ]
    },
    {
      "cell_type": "code",
      "metadata": {
        "colab": {
          "base_uri": "https://localhost:8080/",
          "height": 336
        },
        "id": "UcxesfpVUya4",
        "outputId": "e4327540-70cb-491d-8e1b-97cc2cd490f3"
      },
      "source": [
        "fig = plt.figure(figsize=(15,5))\n",
        "\n",
        "fig1 = fig.add_subplot(1,2,1)\n",
        "fig1.title.set_text('Accuracy vs width px')\n",
        "fig1.set_ylim([0,1])\n",
        "plt.errorbar(range(1,7),mean_width_scores,yerr=width_scores_errs, fmt='o')\n",
        "\n",
        "\n",
        "fig2 = fig.add_subplot(1,2,2)\n",
        "fig2.title.set_text('Accuracy vs gauge px')\n",
        "fig2.set_ylim([0,1])\n",
        "plt.errorbar(range(2,10),mean_gauge_scores,yerr=gauge_scores_errs, fmt='o')\n",
        "\n",
        "plt.show()\n"
      ],
      "execution_count": null,
      "outputs": [
        {
          "output_type": "display_data",
          "data": {
            "image/png": "[encoded data removed]",
            "text/plain": [
              "<Figure size 1080x360 with 2 Axes>"
            ]
          },
          "metadata": {
            "tags": [],
            "needs_background": "light"
          }
        }
      ]
    },
    {
      "cell_type": "markdown",
      "metadata": {
        "id": "avx7V6agLmHs"
      },
      "source": [
        "# Test vs custom digits"
      ]
    },
    {
      "cell_type": "code",
      "metadata": {
        "id": "xJEsCgXjLyOy"
      },
      "source": [
        "from PIL import Image\n",
        "import torch.nn.functional as F\n",
        "\n",
        "def test_custom_digit(digit):\n",
        "  PATH = f\"drive/MyDrive/Code/MNIST-masking-experiment/cifre/pennello_1/bianco_{digit}.png\"\n",
        "  with Image.open(PATH) as img:\n",
        "    array = np.array(img)\n",
        "\n",
        "  plt.imshow(array)\n",
        "  plt.show() \n",
        "\n",
        "  tens = torch.from_numpy(array[:,:,0])\n",
        "  tens = F.pad(input=tens, pad=(2,2,2,2),value=0)\n",
        "  tens = tens.reshape(1,32,32)/255\n",
        "  tens = tens.unsqueeze(1).cuda()\n",
        "\n",
        "  out = model(tens)\n",
        "  prediction = out.argmax(axis=1)\n",
        "\n",
        "  print(f\"Input: {digit}, prediction {prediction.item()}\")\n",
        "  \n",
        "  return prediction.item()\n",
        "  \n",
        "\n",
        "accuracy = 0\n",
        "\n",
        "for i in range(0,10):\n",
        "  guess = test_custom_digit(i)\n",
        "  if (i==guess):\n",
        "    accuracy += 1\n",
        "\n",
        "print(f\"Accuracy: {accuracy/10}\")"
      ],
      "execution_count": null,
      "outputs": []
    },
    {
      "cell_type": "markdown",
      "metadata": {
        "id": "X5WUhASFoaJN"
      },
      "source": [
        "# Single layers study"
      ]
    },
    {
      "cell_type": "code",
      "metadata": {
        "id": "zbItDtmhoeeX"
      },
      "source": [
        "class network_c1(nn.Module):\n",
        "  def __init__(self):\n",
        "    super().__init__()\n",
        "\n",
        "    self.conv1 = nn.Conv2d(1,6,kernel_size=5, stride=1, padding=2)\n",
        "    self.tanh = nn.Tanh()\n",
        "\n",
        "  def forward(self,img):\n",
        "    out = self.conv1(img)\n",
        "    out = self.tanh(out)\n",
        "\n",
        "    return out"
      ],
      "execution_count": null,
      "outputs": []
    },
    {
      "cell_type": "code",
      "metadata": {
        "colab": {
          "base_uri": "https://localhost:8080/",
          "height": 276
        },
        "id": "XdBixol8pFDG",
        "outputId": "ee17153e-b32f-4254-f66c-618d1a70dedd"
      },
      "source": [
        "model_c1 = network_c1()\n",
        "model_c2 = network_c1()\n",
        "print(model_c1.state_dict)\n",
        "\n",
        "PATH = f\"drive/MyDrive/Code/MNIST-masking-experiment/cifre/sottili_1/bianco_0.png\"\n",
        "with Image.open(PATH) as img:\n",
        " array = np.array(img)\n",
        "\n",
        "tens = torch.from_numpy(array[:,:,0])\n",
        "tens = torch.unsqueeze(tens, 0)\n",
        "tens = torch.unsqueeze(tens, 0).float()\n",
        "\n",
        "out = model_c1(tens)\n",
        "out=out.detach().numpy()\n",
        "\n",
        "fig = plt.figure(figsize=(20,5))\n",
        "\n",
        "for i in range(6):\n",
        "  fig.add_subplot(1,6,i+1)\n",
        "  plt.imshow(out[0,i,:,:], cmap='gray')\n",
        "\n",
        "plt.show()\n"
      ],
      "execution_count": null,
      "outputs": [
        {
          "output_type": "stream",
          "text": [
            "<bound method Module.state_dict of network_c1(\n",
            "  (conv1): Conv2d(1, 6, kernel_size=(5, 5), stride=(1, 1), padding=(2, 2))\n",
            "  (tanh): Tanh()\n",
            ")>\n"
          ],
          "name": "stdout"
        },
        {
          "output_type": "display_data",
          "data": {
            "image/png": "[encoded data removed]",
            "text/plain": [
              "<Figure size 1440x360 with 6 Axes>"
            ]
          },
          "metadata": {
            "tags": [],
            "needs_background": "light"
          }
        }
      ]
    }
  ]
}